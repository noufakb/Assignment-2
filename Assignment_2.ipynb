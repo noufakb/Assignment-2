{
  "nbformat": 4,
  "nbformat_minor": 0,
  "metadata": {
    "colab": {
      "provenance": []
    },
    "kernelspec": {
      "name": "python3",
      "display_name": "Python 3"
    },
    "language_info": {
      "name": "python"
    }
  },
  "cells": [
    {
      "cell_type": "code",
      "execution_count": 1,
      "metadata": {
        "colab": {
          "base_uri": "https://localhost:8080/"
        },
        "id": "KhiIiGWqs_0o",
        "outputId": "efff4379-18f1-4066-d3bf-6d693b1dd25b"
      },
      "outputs": [
        {
          "output_type": "stream",
          "name": "stdout",
          "text": [
            "Nouf - 202310395\n"
          ]
        }
      ],
      "source": [
        "print(\"Nouf - 202310395\")"
      ]
    }
  ]
}